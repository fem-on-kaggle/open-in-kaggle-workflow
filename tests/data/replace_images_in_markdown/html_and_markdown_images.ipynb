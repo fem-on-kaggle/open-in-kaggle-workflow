{
 "cells": [
  {
   "cell_type": "markdown",
   "id": "2d06f17a",
   "metadata": {},
   "source": [
    "This is the black image.\n",
    "<img src=\"data:image/png;base64,iVBORw0KGgoAAAANSUhEUgAAABQAAAAUCAIAAAAC64paAAABhWlDQ1BJQ0MgcHJvZmlsZQAAKJF9kT1Iw1AUhU9TpSIVBzuIOESsThZERRy1CkWoEGqFVh1MXvoHTRqSFBdHwbXg4M9i1cHFWVcHV0EQ/AFxdHJSdJES70sKLWK88Hgf591zeO8+QKiXmWZ1jAOabpupRFzMZFfF0CsC6EcYwxiSmWXMSVISvvV1T91UdzGe5d/3Z/WoOYsBAZF4lhmmTbxBPL1pG5z3iSOsKKvE58RjJl2Q+JHrisdvnAsuCzwzYqZT88QRYrHQxkobs6KpEU8RR1VNp3wh47HKeYuzVq6y5j35C8M5fWWZ67QGkcAiliBBhIIqSijDRox2nRQLKTqP+/gHXL9ELoVcJTByLKACDbLrB/+D37O18pMTXlI4DnS+OM7HCBDaBRo1x/k+dpzGCRB8Bq70lr9SB2Y+Sa+1tOgR0LsNXFy3NGUPuNwB+p8M2ZRdKUhLyOeB9zP6pizQdwt0r3lza57j9AFI06ySN8DBITBaoOx1n3d3tc/t357m/H4AdYByqDQvTdsAAAAJcEhZcwAALiMAAC4jAXilP3YAAAAHdElNRQfmARgMJBxI90ByAAAAGXRFWHRDb21tZW50AENyZWF0ZWQgd2l0aCBHSU1QV4EOFwAAABJJREFUOMtjYBgFo2AUjIKhCwAExAAB5HDUOgAAAABJRU5ErkJggg==\" alt=\"Black\">\n",
    "This is the red image.\n",
    "![Red](data:image/png;base64,iVBORw0KGgoAAAANSUhEUgAAABQAAAAUAQMAAAC3R49OAAABfWlDQ1BpY2MAACiRfZE9SMNQFIVPU6UiFQc7iDhErE4WREUctQpFqBBqhVYdTF76B00akhQXR8G14ODPYtXBxVlXB1dBEPwBcXRyUnSREu9LCi1ivPB4H+fdc3jvPkCol5lmdYwDmm6bqURczGRXxdArAuhHGMMYkpllzElSEr71dU/dVHcxnuXf92f1qDmLAQGReJYZpk28QTy9aRuc94kjrCirxOfEYyZdkPiR64rHb5wLLgs8M2KmU/PEEWKx0MZKG7OiqRFPEUdVTad8IeOxynmLs1ausuY9+QvDOX1lmeu0BpHAIpYgQYSCKkoow0aMdp0UCyk6j/v4B1y/RC6FXCUwciygAg2y6wf/g9+ztfKTE15SOA50vjjOxwgQ2gUaNcf5PnacxgkQfAau9Ja/UgdmPkmvtbToEdC7DVxctzRlD7jcAfqfDNmUXSlIS8jngfcz+qYs0HcLdK95c2ue4/QBSNOskjfAwSEwWqDsdZ93d7XP7d+e5vx+AHWAcqhXYFxpAAAAIGNIUk0AAHomAACAhAAA+gAAAIDoAAB1MAAA6mAAADqYAAAXcJy6UTwAAAAGUExURf0AAP///wzVlRoAAAABYktHRAH/Ai3eAAAACXBIWXMAAC4jAAAuIwF4pT92AAAAB3RJTUUH6AoRADcq32py9gAAAAxJREFUCNdjYKAuAAAAUAABIhPodQAAABl0RVh0Y29tbWVudABDcmVhdGVkIHdpdGggR0lNUOevQMsAAAAldEVYdGRhdGU6Y3JlYXRlADIwMjQtMTAtMTdUMDA6NTU6NDIrMDA6MDDLroVXAAAAJXRFWHRkYXRlOm1vZGlmeQAyMDI0LTEwLTE3VDAwOjU1OjQyKzAwOjAwuvM96wAAABt0RVh0aWNjOmNvcHlyaWdodABQdWJsaWMgRG9tYWlutpExWwAAACJ0RVh0aWNjOmRlc2NyaXB0aW9uAEdJTVAgYnVpbHQtaW4gc1JHQkxnQRMAAAAVdEVYdGljYzptYW51ZmFjdHVyZXIAR0lNUEyekMoAAAAOdEVYdGljYzptb2RlbABzUkdCW2BJQwAAAABJRU5ErkJggg==)"
   ]
  },
  {
   "cell_type": "markdown",
   "id": "d4143db8",
   "metadata": {},
   "source": [
    "This is the blue image.\n",
    "![Blue](data:image/png;base64,iVBORw0KGgoAAAANSUhEUgAAABQAAAAUCAYAAACNiR0NAAAABHNCSVQICAgIfAhkiAAAAAlwSFlzAAAOxAAADsQBlSsOGwAAABl0RVh0U29mdHdhcmUAd3d3Lmlua3NjYXBlLm9yZ5vuPBoAAAAiSURBVDiNY2Rg+P+fgYqAiZqGjRo4auCogaMGjho4lAwEABoGAiZm1CLDAAAAAElFTkSuQmCC)"
   ]
  }
 ],
 "metadata": {
  "kernelspec": {
   "display_name": "Python 3 (ipykernel)",
   "language": "python",
   "name": "python3"
  },
  "language_info": {
   "codemirror_mode": {
    "name": "ipython"
   },
   "file_extension": ".py",
   "mimetype": "text/x-python",
   "name": "python",
   "nbconvert_exporter": "python"
  }
 },
 "nbformat": 4,
 "nbformat_minor": 5
}
