{
 "cells": [
  {
   "cell_type": "markdown",
   "id": "3279f625",
   "metadata": {},
   "source": [
    "This is the red image.\n",
    "![Red](data:image/png;base64,iVBORw0KGgoAAAANSUhEUgAAABQAAAAUAQMAAAC3R49OAAABfWlDQ1BpY2MAACiRfZE9SMNQFIVPU6UiFQc7iDhErE4WREUctQpFqBBqhVYdTF76B00akhQXR8G14ODPYtXBxVlXB1dBEPwBcXRyUnSREu9LCi1ivPB4H+fdc3jvPkCol5lmdYwDmm6bqURczGRXxdArAuhHGMMYkpllzElSEr71dU/dVHcxnuXf92f1qDmLAQGReJYZpk28QTy9aRuc94kjrCirxOfEYyZdkPiR64rHb5wLLgs8M2KmU/PEEWKx0MZKG7OiqRFPEUdVTad8IeOxynmLs1ausuY9+QvDOX1lmeu0BpHAIpYgQYSCKkoow0aMdp0UCyk6j/v4B1y/RC6FXCUwciygAg2y6wf/g9+ztfKTE15SOA50vjjOxwgQ2gUaNcf5PnacxgkQfAau9Ja/UgdmPkmvtbToEdC7DVxctzRlD7jcAfqfDNmUXSlIS8jngfcz+qYs0HcLdK95c2ue4/QBSNOskjfAwSEwWqDsdZ93d7XP7d+e5vx+AHWAcqhXYFxpAAAAIGNIUk0AAHomAACAhAAA+gAAAIDoAAB1MAAA6mAAADqYAAAXcJy6UTwAAAAGUExURf0AAP///wzVlRoAAAABYktHRAH/Ai3eAAAACXBIWXMAAC4jAAAuIwF4pT92AAAAB3RJTUUH6AEEAQ4AG4DKEQAAAAxJREFUCNdjYKAuAAAAUAABIhPodQAAABl0RVh0Y29tbWVudABDcmVhdGVkIHdpdGggR0lNUOevQMsAAAAldEVYdGRhdGU6Y3JlYXRlADIwMjQtMDEtMDRUMDE6MTQ6MDArMDA6MDBGHZ8SAAAAJXRFWHRkYXRlOm1vZGlmeQAyMDI0LTAxLTA0VDAxOjE0OjAwKzAwOjAwN0AnrgAAABt0RVh0aWNjOmNvcHlyaWdodABQdWJsaWMgRG9tYWlutpExWwAAACJ0RVh0aWNjOmRlc2NyaXB0aW9uAEdJTVAgYnVpbHQtaW4gc1JHQkxnQRMAAAAVdEVYdGljYzptYW51ZmFjdHVyZXIAR0lNUEyekMoAAAAOdEVYdGljYzptb2RlbABzUkdCW2BJQwAAAABJRU5ErkJggg==)"
   ]
  }
 ],
 "metadata": {
  "kernelspec": {
   "display_name": "Python 3 (ipykernel)",
   "language": "python",
   "name": "python3"
  },
  "language_info": {
   "codemirror_mode": {
    "name": "ipython"
   },
   "file_extension": ".py",
   "mimetype": "text/x-python",
   "name": "python",
   "nbconvert_exporter": "python"
  }
 },
 "nbformat": 4,
 "nbformat_minor": 5
}
