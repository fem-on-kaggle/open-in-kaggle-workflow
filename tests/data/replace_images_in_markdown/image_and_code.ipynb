{
 "cells": [
  {
   "cell_type": "markdown",
   "id": "3279f625",
   "metadata": {},
   "source": [
    "This is the red image.\n",
    "![Red](data:image/png;base64,iVBORw0KGgoAAAANSUhEUgAAABQAAAAUAQMAAAC3R49OAAABfWlDQ1BpY2MAACiRfZE9SMNQFIVPU6UiFQc7iDhErE4WREUctQpFqBBqhVYdTF76B00akhQXR8G14ODPYtXBxVlXB1dBEPwBcXRyUnSREu9LCi1ivPB4H+fdc3jvPkCol5lmdYwDmm6bqURczGRXxdArAuhHGMMYkpllzElSEr71dU/dVHcxnuXf92f1qDmLAQGReJYZpk28QTy9aRuc94kjrCirxOfEYyZdkPiR64rHb5wLLgs8M2KmU/PEEWKx0MZKG7OiqRFPEUdVTad8IeOxynmLs1ausuY9+QvDOX1lmeu0BpHAIpYgQYSCKkoow0aMdp0UCyk6j/v4B1y/RC6FXCUwciygAg2y6wf/g9+ztfKTE15SOA50vjjOxwgQ2gUaNcf5PnacxgkQfAau9Ja/UgdmPkmvtbToEdC7DVxctzRlD7jcAfqfDNmUXSlIS8jngfcz+qYs0HcLdK95c2ue4/QBSNOskjfAwSEwWqDsdZ93d7XP7d+e5vx+AHWAcqhXYFxpAAAAIGNIUk0AAHomAACAhAAA+gAAAIDoAAB1MAAA6mAAADqYAAAXcJy6UTwAAAAGUExURf4AAP///4pB57QAAAABYktHRAH/Ai3eAAAACXBIWXMAAC4jAAAuIwF4pT92AAAAB3RJTUUH5wMQAR05cYci9gAAAcF6VFh0UmF3IHByb2ZpbGUgdHlwZSBpY2MAADiNpVNbjuQgDPznFHsE42c4ThqCtPe/wBoM/ZqelWbXSoRSxuXCVNLvWtOvEWqYYASeoFVJmxEwTUibXsaGgmyMCHJIkRMB7FJPZ38OX6sXewHmpFnJyICzgABX+Ifo3jUFe0QjbHdlP4z0w/1NWcVIo1HGBTMkPxgYGkdCV4LUzCcEGy9H4Jld7+HjWPi5RoE1+TjnGCPRHgUv+FXvuD3hW5Djg4j9ZkIqZl4dwAs+49/sT0Oqobb4pp1gn4UbYB3B1b3gvHHbR+PkcDXR91vaN1lV9BIR2gUr7QQ+QuDir4uQcWvjoDqcJr56Qn3TGDK29X3FnmEJwUWA7wLS3xXk86FAYDXDaDabUDRhdiLt44fwNz8UwOOXeIrhYHgzsHtKiQifDZmhclRKu/oIQpnfVqbC3gpM/HbmubbViVqdRNVVfFKgPU5GRw9CKh+VIpceivoxb+OmlT8SYrGZt2Ou+WgOaHbb3I85iPbkUT0mL54WQ5AyCylsBqfcXnwXQZsITmqzUDgMxrXOjaWUc3UI4i71O9/tYb9dO+x/7ovx/oPo1YjpD68hICBYsTNYAAAADElEQVQI12NgoC4AAABQAAEiE+h1AAAAGXRFWHRjb21tZW50AENyZWF0ZWQgd2l0aCBHSU1Q569AywAAACV0RVh0ZGF0ZTpjcmVhdGUAMjAyMy0wMy0xNlQwMToyODowNSswMDowMIaQ4KsAAAAldEVYdGRhdGU6bW9kaWZ5ADIwMjMtMDMtMTZUMDE6Mjg6MDUrMDA6MDD3zVgXAAAAKHRFWHRkYXRlOnRpbWVzdGFtcAAyMDIzLTAzLTE2VDAxOjI5OjU3KzAwOjAwkGUNuwAAAABJRU5ErkJggg==)"
   ]
  },
  {
   "cell_type": "code",
   "execution_count": null,
   "id": "2f20ed82",
   "metadata": {},
   "outputs": [],
   "source": [
    "import numpy  # noqa: F401"
   ]
  }
 ],
 "metadata": {
  "kernelspec": {
   "display_name": "Python 3 (ipykernel)",
   "language": "python",
   "name": "python3"
  },
  "language_info": {
   "codemirror_mode": {
    "name": "ipython"
   },
   "file_extension": ".py",
   "mimetype": "text/x-python",
   "name": "python",
   "nbconvert_exporter": "python"
  }
 },
 "nbformat": 4,
 "nbformat_minor": 5
}
