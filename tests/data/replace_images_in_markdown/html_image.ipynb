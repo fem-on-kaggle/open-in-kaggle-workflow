{
 "cells": [
  {
   "cell_type": "markdown",
   "id": "5119a918",
   "metadata": {},
   "source": [
    "This is the black image.\n",
    "<img src=\"data:image/png;base64,iVBORw0KGgoAAAANSUhEUgAAABQAAAAUCAIAAAAC64paAAABhWlDQ1BJQ0MgcHJvZmlsZQAAKJF9kT1Iw1AUhU9TpSIVBzuIOESsThZERRy1CkWoEGqFVh1MXvoHTRqSFBdHwbXg4M9i1cHFWVcHV0EQ/AFxdHJSdJES70sKLWK88Hgf591zeO8+QKiXmWZ1jAOabpupRFzMZFfF0CsC6EcYwxiSmWXMSVISvvV1T91UdzGe5d/3Z/WoOYsBAZF4lhmmTbxBPL1pG5z3iSOsKKvE58RjJl2Q+JHrisdvnAsuCzwzYqZT88QRYrHQxkobs6KpEU8RR1VNp3wh47HKeYuzVq6y5j35C8M5fWWZ67QGkcAiliBBhIIqSijDRox2nRQLKTqP+/gHXL9ELoVcJTByLKACDbLrB/+D37O18pMTXlI4DnS+OM7HCBDaBRo1x/k+dpzGCRB8Bq70lr9SB2Y+Sa+1tOgR0LsNXFy3NGUPuNwB+p8M2ZRdKUhLyOeB9zP6pizQdwt0r3lza57j9AFI06ySN8DBITBaoOx1n3d3tc/t357m/H4AdYByqDQvTdsAAAAJcEhZcwAALiMAAC4jAXilP3YAAAAHdElNRQfmARgMJBxI90ByAAAAGXRFWHRDb21tZW50AENyZWF0ZWQgd2l0aCBHSU1QV4EOFwAAABJJREFUOMtjYBgFo2AUjIKhCwAExAAB5HDUOgAAAABJRU5ErkJggg==\" alt=\"Black\">"
   ]
  }
 ],
 "metadata": {
  "kernelspec": {
   "display_name": "Python 3 (ipykernel)",
   "language": "python",
   "name": "python3"
  },
  "language_info": {
   "codemirror_mode": {
    "name": "ipython"
   },
   "file_extension": ".py",
   "mimetype": "text/x-python",
   "name": "python",
   "nbconvert_exporter": "python"
  }
 },
 "nbformat": 4,
 "nbformat_minor": 5
}
