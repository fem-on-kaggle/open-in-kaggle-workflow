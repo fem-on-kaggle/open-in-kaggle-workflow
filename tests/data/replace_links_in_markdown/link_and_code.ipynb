{
 "cells": [
  {
   "cell_type": "markdown",
   "id": "9b4fb961",
   "metadata": {},
   "source": [
    "[Link to the main notebook](https://kaggle.com/kernels/welcome?src=https://github.com/fem-on-kaggle/open-in-kaggle-workflow/blob/open-in-kaggle/tests/data/replace_links_in_markdown/main_notebook.ipynb)"
   ]
  },
  {
   "cell_type": "code",
   "execution_count": null,
   "id": "4556c7b6",
   "metadata": {},
   "outputs": [],
   "source": [
    "import numpy  # noqa: F401"
   ]
  }
 ],
 "metadata": {
  "kernelspec": {
   "display_name": "Python 3 (ipykernel)",
   "language": "python",
   "name": "python3"
  },
  "language_info": {
   "codemirror_mode": {
    "name": "ipython"
   },
   "file_extension": ".py",
   "mimetype": "text/x-python",
   "name": "python",
   "nbconvert_exporter": "python"
  }
 },
 "nbformat": 4,
 "nbformat_minor": 5
}
