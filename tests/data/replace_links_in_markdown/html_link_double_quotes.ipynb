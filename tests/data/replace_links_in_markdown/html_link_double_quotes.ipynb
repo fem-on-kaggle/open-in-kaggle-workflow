{
 "cells": [
  {
   "cell_type": "markdown",
   "id": "bd35ffb1",
   "metadata": {},
   "source": [
    "<a href=\"https://kaggle.com/kernels/welcome?src=https://github.com/fem-on-kaggle/open-in-kaggle-workflow/blob/open-in-kaggle/tests/data/replace_links_in_markdown/main_notebook.ipynb\">Link to the main notebook</a>"
   ]
  }
 ],
 "metadata": {
  "kernelspec": {
   "display_name": "Python 3 (ipykernel)",
   "language": "python",
   "name": "python3"
  },
  "language_info": {
   "codemirror_mode": {
    "name": "ipython"
   },
   "file_extension": ".py",
   "mimetype": "text/x-python",
   "name": "python",
   "nbconvert_exporter": "python"
  }
 },
 "nbformat": 4,
 "nbformat_minor": 5
}
