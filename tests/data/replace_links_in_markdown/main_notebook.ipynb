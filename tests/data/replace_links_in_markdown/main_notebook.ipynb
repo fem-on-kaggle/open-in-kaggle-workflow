{
 "cells": [
  {
   "cell_type": "markdown",
   "id": "fd2494cc",
   "metadata": {},
   "source": [
    "This is the main notebook, that the other notebooks will link to."
   ]
  }
 ],
 "metadata": {
  "kernelspec": {
   "display_name": "Python 3 (ipykernel)",
   "language": "python",
   "name": "python3"
  },
  "language_info": {
   "codemirror_mode": {
    "name": "ipython"
   },
   "file_extension": ".py",
   "mimetype": "text/x-python",
   "name": "python",
   "nbconvert_exporter": "python"
  }
 },
 "nbformat": 4,
 "nbformat_minor": 5
}
