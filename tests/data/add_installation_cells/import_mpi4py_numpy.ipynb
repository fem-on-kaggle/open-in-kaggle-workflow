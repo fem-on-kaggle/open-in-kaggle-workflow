{
 "cells": [
  {
   "cell_type": "code",
   "execution_count": null,
   "id": "mpi4py_install",
   "metadata": {},
   "outputs": [],
   "source": [
    "try:\n",
    "    import mpi4py\n",
    "except ImportError:\n",
    "    !wget \"https://fem-on-kaggle.github.io/releases/mpi4py-install.sh\" -O \"/tmp/mpi4py-install.sh\" && bash \"/tmp/mpi4py-install.sh\"\n",
    "    import mpi4py"
   ]
  },
  {
   "cell_type": "code",
   "execution_count": null,
   "id": "aa55a3e8",
   "metadata": {},
   "outputs": [],
   "source": [
    "import mpi4py  # type: ignore[import-not-found] # noqa: F401\n",
    "import numpy as np  # noqa: F401"
   ]
  }
 ],
 "metadata": {
  "kernelspec": {
   "display_name": "Python 3 (ipykernel)",
   "language": "python",
   "name": "python3"
  },
  "language_info": {
   "codemirror_mode": {
    "name": "ipython"
   },
   "file_extension": ".py",
   "mimetype": "text/x-python",
   "name": "python",
   "nbconvert_exporter": "python"
  }
 },
 "nbformat": 4,
 "nbformat_minor": 5
}
