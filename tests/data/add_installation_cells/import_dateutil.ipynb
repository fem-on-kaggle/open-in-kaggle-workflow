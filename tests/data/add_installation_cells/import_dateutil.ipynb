{
 "cells": [
  {
   "cell_type": "code",
   "execution_count": null,
   "id": "python-dateutil_install",
   "metadata": {},
   "outputs": [],
   "source": [
    "try:\n",
    "    import dateutil\n",
    "except ImportError:\n",
    "    !pip3 install python-dateutil\n",
    "    import dateutil"
   ]
  },
  {
   "cell_type": "code",
   "execution_count": null,
   "id": "7b7d47cd",
   "metadata": {},
   "outputs": [],
   "source": [
    "import dateutil  # type: ignore[import-untyped] # noqa: F401"
   ]
  }
 ],
 "metadata": {
  "kernelspec": {
   "display_name": "Python 3 (ipykernel)",
   "language": "python",
   "name": "python3"
  },
  "language_info": {
   "codemirror_mode": {
    "name": "ipython"
   },
   "file_extension": ".py",
   "mimetype": "text/x-python",
   "name": "python",
   "nbconvert_exporter": "python"
  }
 },
 "nbformat": 4,
 "nbformat_minor": 5
}
